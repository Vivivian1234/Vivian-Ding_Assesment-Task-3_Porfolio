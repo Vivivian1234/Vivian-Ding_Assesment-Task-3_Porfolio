{
 "cells": [
  {
   "attachments": {},
   "cell_type": "markdown",
   "metadata": {},
   "source": [
    "# Vivian Ding- Assessment  Task 3- Portfolio"
   ]
  },
  {
   "attachments": {},
   "cell_type": "markdown",
   "metadata": {},
   "source": [
    "---"
   ]
  },
  {
   "attachments": {},
   "cell_type": "markdown",
   "metadata": {},
   "source": [
    "### **Identify the Need**"
   ]
  },
  {
   "attachments": {},
   "cell_type": "markdown",
   "metadata": {},
   "source": [
    "My game is a simple FPS game where the goal is to kill or the enemies and survive through different enemies, obstacles, and levels. Because of the dynamic nature of FPS games, this game will help develop quicker reaction times, memory and cognitive skills."
   ]
  },
  {
   "attachments": {},
   "cell_type": "markdown",
   "metadata": {},
   "source": [
    "### **Requirements Outline**"
   ]
  },
  {
   "attachments": {},
   "cell_type": "markdown",
   "metadata": {},
   "source": [
    "* Inputs: \n",
    "\n",
    "     _User inputs will include directional keyboard keys for character movements, left mouse click for shooting, and ----------_\n",
    "\n",
    "* Processing: \n",
    "\n",
    "     _The program will check for collisions, calculate the new position of the player and enemies, and update the game score accordingly._\n",
    "\n",
    "* Outputs: \n",
    "\n",
    "     _The game will show the player and the area around them to fit the screen size. There will also be a health bar._\n",
    "\n",
    "* Transmission: \n",
    "\n",
    "     _No, there are no transmission requirements._\n",
    "\n",
    "* Storage: \n",
    "\n",
    "     _The game will store the user's progress, health, and position accordingly._\n"
   ]
  },
  {
   "attachments": {},
   "cell_type": "markdown",
   "metadata": {},
   "source": [
    "### **Functional Requirements**"
   ]
  },
  {
   "attachments": {},
   "cell_type": "markdown",
   "metadata": {},
   "source": [
    "#### *User Interaction*\n",
    "\n",
    "The user will interact with my project through keyboard controls and the mouse buttons to play. WASD will be used to control the player’s movements, F will be the interact button, and the left mouse click will be the shooting button.\n",
    "\n",
    "The user can perform many actions, such as move in a certain direction, shoot, interact with —------------\n",
    "For example, pressing W on the keyboard will lead the player to walk forward in the direction they are looking in.\n"
   ]
  },
  {
   "attachments": {},
   "cell_type": "markdown",
   "metadata": {},
   "source": [
    "#### *Core Gameplay or Simulation Mechanics*\n",
    "\n",
    "The main mechanics of this game is movement and shooting, as it is an FPS game. For a simulation, the game focuses on combat by observing action directly through the main character. These mechanics work through many different parts, such as player input, character movement, camera control, shooting mechanics and collision detections.\n"
   ]
  },
  {
   "attachments": {},
   "cell_type": "markdown",
   "metadata": {},
   "source": [
    "#### *Scoring and Feedback (if applicable)*\n",
    "\n",
    "Once a player dies, there will be a screen giving information about the user’s playthrough. There will also be default tips for the user to read that may help benefit them when they try again. Once a player finishes all the levels, a screen will celebrate them finishing the game, and they can choose to quit or restart the game.\n"
   ]
  },
  {
   "attachments": {},
   "cell_type": "markdown",
   "metadata": {},
   "source": [
    "#### *Level Progression or Simulation Stages (if applicable)*\n",
    "\n",
    "This game will have many levels where it progressively gets harder and harder through more enemies, smaller areas and more obstacles.\n"
   ]
  }
 ],
 "metadata": {
  "kernelspec": {
   "display_name": "Python 3",
   "language": "python",
   "name": "python3"
  },
  "language_info": {
   "codemirror_mode": {
    "name": "ipython",
    "version": 3
   },
   "file_extension": ".py",
   "mimetype": "text/x-python",
   "name": "python",
   "nbconvert_exporter": "python",
   "pygments_lexer": "ipython3",
   "version": "3.9.2"
  },
  "orig_nbformat": 4
 },
 "nbformat": 4,
 "nbformat_minor": 2
}
