{
 "cells": [
  {
   "attachments": {},
   "cell_type": "markdown",
   "metadata": {},
   "source": [
    "# Vivian Ding- Assessment  Task 3- Portfolio"
   ]
  },
  {
   "attachments": {},
   "cell_type": "markdown",
   "metadata": {},
   "source": [
    "---"
   ]
  },
  {
   "attachments": {},
   "cell_type": "markdown",
   "metadata": {},
   "source": [
    "### **Identify the Need**"
   ]
  },
  {
   "attachments": {},
   "cell_type": "markdown",
   "metadata": {},
   "source": [
    "My game is made to give enjoyment to players who are looking for a simple 2D side-scrolling platform game while improving hand-eye coordination and perception skills. It encourages spatial awareness and tests memory through its slow build up of new obstacles and skills, helping people's problem solving.\n",
    "\n",
    "This game is based off Honkai:Stair Rail, so my game will provide recognition to the company who made it, Hoyoverse. My game's focus is one of the characters, so HSR players can be happy while playing with my game through an imaginary scenario of the character.\n",
    "\n",
    "People of all ages who would like or need to improve their fine motor skills and are beginners can benefit from this game greatly, as it starts very easy, building up to harder levels, allowing for players to grow and their own pace."
   ]
  },
  {
   "attachments": {},
   "cell_type": "markdown",
   "metadata": {},
   "source": [
    "### **Requirements Outline**"
   ]
  },
  {
   "attachments": {},
   "cell_type": "markdown",
   "metadata": {},
   "source": [
    "* Inputs: \n",
    "\n",
    "_User inputs will include directional keyboard keys for character movement and spacebar for jumping._\n",
    "\n",
    "* Processing: \n",
    "\n",
    "     _The program will check for collisions, calculate the new position of the player, and update the game score accordingly._\n",
    "\n",
    "* Outputs: \n",
    "\n",
    "     _The game will show the player and the area around them to fit the screen size._\n",
    "\n",
    "* Transmission: \n",
    "\n",
    "     _No, there are no transmission requirements._\n",
    "\n",
    "* Storage: \n",
    "\n",
    "     _The player’s data will not be saved or stored because of its simplicity._\n"
   ]
  }
 ],
 "metadata": {
  "kernelspec": {
   "display_name": "Python 3",
   "language": "python",
   "name": "python3"
  },
  "language_info": {
   "codemirror_mode": {
    "name": "ipython",
    "version": 3
   },
   "file_extension": ".py",
   "mimetype": "text/x-python",
   "name": "python",
   "nbconvert_exporter": "python",
   "pygments_lexer": "ipython3",
   "version": "3.9.2"
  },
  "orig_nbformat": 4
 },
 "nbformat": 4,
 "nbformat_minor": 2
}
