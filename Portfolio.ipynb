{
 "cells": [
  {
   "attachments": {},
   "cell_type": "markdown",
   "metadata": {},
   "source": [
    "# Vivian Ding- Assessment  Task 3- Portfolio"
   ]
  },
  {
   "attachments": {},
   "cell_type": "markdown",
   "metadata": {},
   "source": [
    "---"
   ]
  },
  {
   "attachments": {},
   "cell_type": "markdown",
   "metadata": {},
   "source": [
    "### **Identify the Need**"
   ]
  },
  {
   "attachments": {},
   "cell_type": "markdown",
   "metadata": {},
   "source": [
    "My game is a simple FPS game where the goal is to kill all the enemies and survive through different enemies, obstacles, and levels. Because of the dynamic nature of FPS games, this game will help develop quicker reaction times, memory and cognitive skills."
   ]
  },
  {
   "attachments": {},
   "cell_type": "markdown",
   "metadata": {},
   "source": [
    "### **Requirements Outline**"
   ]
  },
  {
   "attachments": {},
   "cell_type": "markdown",
   "metadata": {},
   "source": [
    "#### *Inputs:* \n",
    "\n",
    "_The user will interact with my project through keyboard controls and the mouse buttons to play._\n",
    "\n",
    "* _The WASD keys allow the player to move in any direction_\n",
    "     \n",
    "* _The camera follows the player's mouse_\n",
    "\n",
    "* _The left click button will let the player shoot in the direction they are facing in._\n",
    "\n",
    "_For example, pressing W on the keyboard will lead the player to walk forward in the direction they are looking in._\n"
   ]
  },
  {
   "cell_type": "markdown",
   "metadata": {},
   "source": [
    "#### *Processing:*\n",
    "\n",
    "_This game will process the inputs accordingly, such as movement processing, camera rotation and shooting inputs._\n",
    "     \n",
    "* _When WASD keys are pressed, the program will calculate a new position for the player by applying movement direction and speed._\n",
    "\n",
    "* _The camera rotation will be constantly updated in regard to the user's mouse movements._\n",
    "\n",
    "* _The program will check for any collisions or obstacles in the player’s path, adjusting the movement to prevent walking through objects._\n"
   ]
  },
  {
   "cell_type": "markdown",
   "metadata": {},
   "source": [
    "#### *Outputs:*\n",
    "\n",
    "_Because of the immersive design of FPS games, being able to have a dynamic first-person view based on where the player is will allow them to see their surroundings in real time, developing fine motor skills and quick thinking. As the player rotates or moves, the walls, objects and enemies can be seen in 3D models to try to replicate a feeling in real life. A health bar will also be visible at all times on the screen, constantly reflecting the player's current health. Being able to monitor your health can benefit players with strategizing and techniques, letting them navigate the game rationally and in regards to their health._\n"
   ]
  },
  {
   "cell_type": "markdown",
   "metadata": {},
   "source": [
    "#### *Transmission:*\n",
    "\n",
    "_There will be no need for transmission requirements because of it's simple single-player game, so it can run entirely on a local machine._\n"
   ]
  },
  {
   "cell_type": "markdown",
   "metadata": {},
   "source": [
    "#### *Storage:*\n",
    "\n",
    "_The game will store the user's progress, health, and position accordingly, but they can only leave after a level is completed. Users may choose to continue with their last game or create a new one. However, leaving halfway through a game will reset the user to the level right before it._\n"
   ]
  },
  {
   "attachments": {},
   "cell_type": "markdown",
   "metadata": {},
   "source": [
    "### **Functional Requirements**"
   ]
  },
  {
   "attachments": {},
   "cell_type": "markdown",
   "metadata": {},
   "source": [
    "#### *User Interaction*\n",
    "\n",
    "The user will interact with my project through keyboard controls and the mouse buttons to play. \n",
    "\n",
    "**As mentioned in the \"Inputs\" section above:**\n",
    "\n",
    "* When WASD keys are pressed, the program will calculate a new position for the player by applying movement direction and speed.\n",
    "\n",
    "* The camera rotation will be constantly updated in regard to the user's mouse movements.\n",
    "\n",
    "* The program will check for any collisions or obstacles in the player’s path, adjusting the movement to prevent walking through objects.\n",
    "\n",
    "* The left click button will let the player shoot in the direction they are facing.\n",
    "\n",
    "An example of this is when the user presses left click, where they will shoot at the aimed target.\n",
    "\n"
   ]
  },
  {
   "attachments": {},
   "cell_type": "markdown",
   "metadata": {},
   "source": [
    "#### *Core Gameplay or Simulation Mechanics*\n",
    "\n",
    "The main mechanics of this game is movement and shooting, as they are the main aspects of an FPS game. As the game's focus is combat, there are a lot of different inputs in this simulation, such as player input, character movement, camera control, shooting mechanics, and collision detection. The WASD and arrow key inputs handle character movement through smooth animations while following the rules of collision detection."
   ]
  },
  {
   "attachments": {},
   "cell_type": "markdown",
   "metadata": {},
   "source": [
    "#### *Scoring and Feedback (if applicable)*\n",
    "\n",
    "Once a player dies, there will be a screen giving information about the user’s playthrough. There will also be default tips for the user to read that may help benefit them when they try again. Once a player finishes all the levels, a screen will celebrate them finishing the game, and they can choose to quit or restart the game.\n"
   ]
  },
  {
   "attachments": {},
   "cell_type": "markdown",
   "metadata": {},
   "source": [
    "#### *Level Progression or Simulation Stages (if applicable)*\n",
    "\n",
    "This game will have many levels where it progressively gets harder and harder through more enemies, smaller areas and more obstacles.\n"
   ]
  },
  {
   "cell_type": "markdown",
   "metadata": {},
   "source": [
    "#### *Saving and Loading Data*\n",
    "\n",
    "This game will have a saving mechanics, where players can exit a level after they have completed it, so they will spawn into the one after that. However, exiting the game halfway during a level will automattically restart the leve when played. Users have the option to save one of their game progresses so they can access it anytime, or they can start again on the first level. After reaching certain levels, user's will upgraded gear to progess into \n",
    "more dangerous levels.\n",
    "\n",
    "This game includes a save system that provides players with multiple options for tracking and managing their progress. After completing a level, the game automatically saves the player’s position, allowing them to exit the game and resume at the beginning of the next level when they return. However, if a player exits the game halfway through a level, progress within that level is not saved; instead, the level will restart from the beginning upon reloading.\n",
    "\n",
    "Users are also given the option to save one active game profile, which stores their progress, gear and level completions so they may access it anytime. However, they may also"
   ]
  }
 ],
 "metadata": {
  "kernelspec": {
   "display_name": "Python 3",
   "language": "python",
   "name": "python3"
  },
  "language_info": {
   "codemirror_mode": {
    "name": "ipython",
    "version": 3
   },
   "file_extension": ".py",
   "mimetype": "text/x-python",
   "name": "python",
   "nbconvert_exporter": "python",
   "pygments_lexer": "ipython3",
   "version": "3.9.2"
  },
  "orig_nbformat": 4
 },
 "nbformat": 4,
 "nbformat_minor": 2
}
