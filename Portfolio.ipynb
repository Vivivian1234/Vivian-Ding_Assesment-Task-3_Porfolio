{
 "cells": [
  {
   "attachments": {},
   "cell_type": "markdown",
   "metadata": {},
   "source": [
    "# Vivian Ding- Assessment  Task 3- Portfolio"
   ]
  },
  {
   "attachments": {},
   "cell_type": "markdown",
   "metadata": {},
   "source": [
    "---"
   ]
  },
  {
   "attachments": {},
   "cell_type": "markdown",
   "metadata": {},
   "source": [
    "### **Identify the Need**"
   ]
  },
  {
   "attachments": {},
   "cell_type": "markdown",
   "metadata": {},
   "source": [
    "My game is an open 2D Adventure game that will improve hand-eye coordination, fine motor skills and problem solving. It helps develop spatial awareness and allows the player to do what ever they want in this sandbox game.\n"
   ]
  },
  {
   "attachments": {},
   "cell_type": "markdown",
   "metadata": {},
   "source": [
    "### **Requirements Outline**"
   ]
  },
  {
   "attachments": {},
   "cell_type": "markdown",
   "metadata": {},
   "source": [
    "* Inputs: \n",
    "\n",
    "_User inputs will include directional keyboard keys for character movements._\n",
    "\n",
    "* Processing: \n",
    "\n",
    "     _The program will check for collisions, calculate the new position of the player, and update the game score accordingly._\n",
    "\n",
    "* Outputs: \n",
    "\n",
    "     _The game will show the player and the area around them to fit the screen size. There will also be a health bar and a text box for npc dialouges._\n",
    "\n",
    "* Transmission: \n",
    "\n",
    "     _No, there are no transmission requirements._\n",
    "\n",
    "* Storage: \n",
    "\n",
    "     _The game will store the user's progress, health, and position accordingly._\n"
   ]
  },
  {
   "attachments": {},
   "cell_type": "markdown",
   "metadata": {},
   "source": [
    "### **Functional Requirements**"
   ]
  },
  {
   "attachments": {},
   "cell_type": "markdown",
   "metadata": {},
   "source": [
    "#### *User Interaction*\n",
    "\n",
    "The user will interact with my project through keyboard controls. \n",
    "\n",
    "\n",
    "\n",
    "\n",
    "\n",
    "\n",
    "Task: Determine how the user will interact with the system.\n",
    "Instructions:\n",
    "Clearly define how users will interact with your project, whether through keyboard commands, mouse clicks, touch gestures, or other inputs.\n",
    "Describe the actions the user can perform (e.g., move a character, select an option, input data).\n",
    "Be specific about what happens when the user provides an input (e.g., pressing a button results in a specific response from the system).\n"
   ]
  }
 ],
 "metadata": {
  "kernelspec": {
   "display_name": "Python 3",
   "language": "python",
   "name": "python3"
  },
  "language_info": {
   "codemirror_mode": {
    "name": "ipython",
    "version": 3
   },
   "file_extension": ".py",
   "mimetype": "text/x-python",
   "name": "python",
   "nbconvert_exporter": "python",
   "pygments_lexer": "ipython3",
   "version": "3.9.2"
  },
  "orig_nbformat": 4
 },
 "nbformat": 4,
 "nbformat_minor": 2
}
